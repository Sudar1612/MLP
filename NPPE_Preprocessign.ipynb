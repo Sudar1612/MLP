{
 "cells": [
  {
   "cell_type": "code",
   "execution_count": 166,
   "id": "46046b17-4670-4b4d-b8a9-5f22f72a9bab",
   "metadata": {},
   "outputs": [],
   "source": [
    "import pandas as pd\n",
    "import numpy as np\n",
    "import seaborn as sns\n",
    "\n",
    "from sklearn.compose import ColumnTransformer\n",
    "from sklearn.pipeline import Pipeline\n",
    "from sklearn.impute import SimpleImputer\n",
    "from sklearn.preprocessing import StandardScaler,MinMaxScaler,OneHotEncoder\n",
    "from sklearn.model_selection import train_test_split"
   ]
  },
  {
   "cell_type": "code",
   "execution_count": 167,
   "id": "31cc1a1c-1b68-4226-94be-e7f18191a2d3",
   "metadata": {},
   "outputs": [
    {
     "data": {
      "text/html": [
       "<div>\n",
       "<style scoped>\n",
       "    .dataframe tbody tr th:only-of-type {\n",
       "        vertical-align: middle;\n",
       "    }\n",
       "\n",
       "    .dataframe tbody tr th {\n",
       "        vertical-align: top;\n",
       "    }\n",
       "\n",
       "    .dataframe thead th {\n",
       "        text-align: right;\n",
       "    }\n",
       "</style>\n",
       "<table border=\"1\" class=\"dataframe\">\n",
       "  <thead>\n",
       "    <tr style=\"text-align: right;\">\n",
       "      <th></th>\n",
       "      <th>CRIM</th>\n",
       "      <th>ZN</th>\n",
       "      <th>INDUS</th>\n",
       "      <th>POLINDEX</th>\n",
       "      <th>RM</th>\n",
       "      <th>AGE</th>\n",
       "      <th>DIS</th>\n",
       "      <th>HIGHWAYCOUNT</th>\n",
       "      <th>TAX</th>\n",
       "      <th>PTRATIO</th>\n",
       "      <th>IMM</th>\n",
       "      <th>BPL</th>\n",
       "      <th>PRICE</th>\n",
       "      <th>RIVERSIDE</th>\n",
       "    </tr>\n",
       "  </thead>\n",
       "  <tbody>\n",
       "    <tr>\n",
       "      <th>0</th>\n",
       "      <td>1.026769</td>\n",
       "      <td>1.429034</td>\n",
       "      <td>7.851300</td>\n",
       "      <td>1.134216</td>\n",
       "      <td>6.0</td>\n",
       "      <td>42.0</td>\n",
       "      <td>5.251911</td>\n",
       "      <td>5</td>\n",
       "      <td>279.201277</td>\n",
       "      <td>20.689586</td>\n",
       "      <td>398.811960</td>\n",
       "      <td>10.461456</td>\n",
       "      <td>22.991633</td>\n",
       "      <td>NO</td>\n",
       "    </tr>\n",
       "    <tr>\n",
       "      <th>1</th>\n",
       "      <td>0.848089</td>\n",
       "      <td>0.255543</td>\n",
       "      <td>6.263434</td>\n",
       "      <td>1.245993</td>\n",
       "      <td>7.0</td>\n",
       "      <td>63.0</td>\n",
       "      <td>4.305546</td>\n",
       "      <td>8</td>\n",
       "      <td>307.444529</td>\n",
       "      <td>17.465398</td>\n",
       "      <td>377.153649</td>\n",
       "      <td>11.619690</td>\n",
       "      <td>24.551055</td>\n",
       "      <td>NO</td>\n",
       "    </tr>\n",
       "    <tr>\n",
       "      <th>2</th>\n",
       "      <td>10.925905</td>\n",
       "      <td>0.441022</td>\n",
       "      <td>18.322960</td>\n",
       "      <td>2.824833</td>\n",
       "      <td>8.0</td>\n",
       "      <td>-2.0</td>\n",
       "      <td>2.409495</td>\n",
       "      <td>25</td>\n",
       "      <td>666.492973</td>\n",
       "      <td>20.351601</td>\n",
       "      <td>387.061355</td>\n",
       "      <td>19.366070</td>\n",
       "      <td>15.875346</td>\n",
       "      <td>NO</td>\n",
       "    </tr>\n",
       "    <tr>\n",
       "      <th>3</th>\n",
       "      <td>0.559027</td>\n",
       "      <td>1.041175</td>\n",
       "      <td>11.114920</td>\n",
       "      <td>0.794952</td>\n",
       "      <td>6.0</td>\n",
       "      <td>9.0</td>\n",
       "      <td>6.898669</td>\n",
       "      <td>4</td>\n",
       "      <td>305.514181</td>\n",
       "      <td>19.787314</td>\n",
       "      <td>391.778647</td>\n",
       "      <td>6.206820</td>\n",
       "      <td>23.007756</td>\n",
       "      <td>NO</td>\n",
       "    </tr>\n",
       "    <tr>\n",
       "      <th>4</th>\n",
       "      <td>0.905063</td>\n",
       "      <td>81.167963</td>\n",
       "      <td>3.673369</td>\n",
       "      <td>1.029030</td>\n",
       "      <td>8.0</td>\n",
       "      <td>20.0</td>\n",
       "      <td>10.246463</td>\n",
       "      <td>1</td>\n",
       "      <td>315.913960</td>\n",
       "      <td>17.360439</td>\n",
       "      <td>395.833166</td>\n",
       "      <td>10.827105</td>\n",
       "      <td>21.503177</td>\n",
       "      <td>NO</td>\n",
       "    </tr>\n",
       "  </tbody>\n",
       "</table>\n",
       "</div>"
      ],
      "text/plain": [
       "        CRIM         ZN      INDUS  POLINDEX   RM   AGE        DIS  \\\n",
       "0   1.026769   1.429034   7.851300  1.134216  6.0  42.0   5.251911   \n",
       "1   0.848089   0.255543   6.263434  1.245993  7.0  63.0   4.305546   \n",
       "2  10.925905   0.441022  18.322960  2.824833  8.0  -2.0   2.409495   \n",
       "3   0.559027   1.041175  11.114920  0.794952  6.0   9.0   6.898669   \n",
       "4   0.905063  81.167963   3.673369  1.029030  8.0  20.0  10.246463   \n",
       "\n",
       "   HIGHWAYCOUNT         TAX    PTRATIO         IMM        BPL      PRICE  \\\n",
       "0             5  279.201277  20.689586  398.811960  10.461456  22.991633   \n",
       "1             8  307.444529  17.465398  377.153649  11.619690  24.551055   \n",
       "2            25  666.492973  20.351601  387.061355  19.366070  15.875346   \n",
       "3             4  305.514181  19.787314  391.778647   6.206820  23.007756   \n",
       "4             1  315.913960  17.360439  395.833166  10.827105  21.503177   \n",
       "\n",
       "  RIVERSIDE  \n",
       "0        NO  \n",
       "1        NO  \n",
       "2        NO  \n",
       "3        NO  \n",
       "4        NO  "
      ]
     },
     "execution_count": 167,
     "metadata": {},
     "output_type": "execute_result"
    }
   ],
   "source": [
    "data=pd.read_csv('C:\\\\Users\\\\SUDARKODI S\\\\Downloads\\\\NPPE1_Preprocessing1.csv')\n",
    "data.head()"
   ]
  },
  {
   "cell_type": "code",
   "execution_count": 168,
   "id": "30b28d56-9ff5-45ef-826d-e105702d1be4",
   "metadata": {},
   "outputs": [
    {
     "data": {
      "text/plain": [
       "(4000, 14)"
      ]
     },
     "execution_count": 168,
     "metadata": {},
     "output_type": "execute_result"
    }
   ],
   "source": [
    "#How many samples are there in the dataset?\n",
    "data.shape\n"
   ]
  },
  {
   "cell_type": "code",
   "execution_count": 169,
   "id": "fbb281d8-b026-4661-a064-2859c34227af",
   "metadata": {},
   "outputs": [
    {
     "data": {
      "text/plain": [
       "24.355923220694248"
      ]
     },
     "execution_count": 169,
     "metadata": {},
     "output_type": "execute_result"
    }
   ],
   "source": [
    "#What is the average house price (in lacs)?\n",
    "data['PRICE'].mean()"
   ]
  },
  {
   "cell_type": "code",
   "execution_count": 170,
   "id": "4738aca3-5c27-45a9-a2af-432407c3a3ab",
   "metadata": {},
   "outputs": [
    {
     "data": {
      "text/plain": [
       "3953"
      ]
     },
     "execution_count": 170,
     "metadata": {},
     "output_type": "execute_result"
    }
   ],
   "source": [
    "#How many houses have 5 or more rooms?\n",
    "data[data['RM']>=5].shape[0]"
   ]
  },
  {
   "cell_type": "code",
   "execution_count": 171,
   "id": "f80bdf0c-dfba-4c2b-a1e6-ba08de9677a2",
   "metadata": {},
   "outputs": [
    {
     "data": {
      "text/plain": [
       "52.36590175716407"
      ]
     },
     "execution_count": 171,
     "metadata": {},
     "output_type": "execute_result"
    }
   ],
   "source": [
    "#What is the average price of the top 10 most expensive houses (in lacs)\n",
    "expensive=data.sort_values(by='PRICE',ascending=False)\n",
    "expensive['PRICE'][:10].mean()"
   ]
  },
  {
   "cell_type": "code",
   "execution_count": 172,
   "id": "3d873b00-f1d2-4379-ae88-f71fb95ebc62",
   "metadata": {},
   "outputs": [
    {
     "data": {
      "text/plain": [
       "RM\n",
       " 7.0     1733\n",
       " 6.0      961\n",
       " 8.0      894\n",
       " 9.0      276\n",
       " 5.0       47\n",
       " 10.0      40\n",
       "-1.0       40\n",
       " 4.0        7\n",
       " 11.0       2\n",
       "Name: count, dtype: int64"
      ]
     },
     "execution_count": 172,
     "metadata": {},
     "output_type": "execute_result"
    }
   ],
   "source": [
    "#What is the total number of missing or unknown values in the number of rooms feature?\n",
    "#Hint: carefully look at the values the feature takes and find out implausible value.)\n",
    "data['RM'].value_counts()"
   ]
  },
  {
   "cell_type": "code",
   "execution_count": 173,
   "id": "81ee371b-caa3-42ba-8409-19fca5596dd0",
   "metadata": {},
   "outputs": [
    {
     "data": {
      "text/plain": [
       "50"
      ]
     },
     "execution_count": 173,
     "metadata": {},
     "output_type": "execute_result"
    }
   ],
   "source": [
    "#What is the total number of missing or unknown values in the age feature?\n",
    "data['AGE'].value_counts()\n",
    "data[data['AGE']==-2].shape[0]"
   ]
  },
  {
   "cell_type": "code",
   "execution_count": 174,
   "id": "53d5a190-500f-4303-a558-3359beedb034",
   "metadata": {},
   "outputs": [
    {
     "data": {
      "text/plain": [
       "RIVERSIDE\n",
       "NO         3595\n",
       "YES         317\n",
       "UNKNOWN      88\n",
       "Name: count, dtype: int64"
      ]
     },
     "execution_count": 174,
     "metadata": {},
     "output_type": "execute_result"
    }
   ],
   "source": [
    "#What is the total number of missing or unknown values in the RIVERSIDE feature?\n",
    "\n",
    "data['RIVERSIDE'].value_counts()"
   ]
  },
  {
   "cell_type": "code",
   "execution_count": 175,
   "id": "4e6631e7-da5c-4053-b817-04ebdb4d85ac",
   "metadata": {},
   "outputs": [
    {
     "data": {
      "text/plain": [
       "44"
      ]
     },
     "execution_count": 175,
     "metadata": {},
     "output_type": "execute_result"
    }
   ],
   "source": [
    "#How many houses are on riverside and were built within the last 50 years (i.e. a house 50 years old or younger)?\n",
    "#For this question, ignore the rows that have missing values in either riverside feature or age feature\n",
    "newData=data[(data['AGE']!=-2) & (data['RIVERSIDE']!='UNKNOWN')]\n",
    "newData[(newData['RIVERSIDE']=='YES') & (newData['AGE']<=50)].shape[0]"
   ]
  },
  {
   "cell_type": "code",
   "execution_count": 176,
   "id": "d67e9bd1-d474-4e23-a17b-04054b00a9dd",
   "metadata": {},
   "outputs": [
    {
     "data": {
      "text/plain": [
       "1211"
      ]
     },
     "execution_count": 176,
     "metadata": {},
     "output_type": "execute_result"
    }
   ],
   "source": [
    "#How many houses are near to exactly 6, 7 or 8 highways (all three inclusive)?\n",
    "data[(data['HIGHWAYCOUNT']==6) | (data['HIGHWAYCOUNT']==7) | (data['HIGHWAYCOUNT']==8) ].shape[0]"
   ]
  },
  {
   "cell_type": "markdown",
   "id": "60c29a57-bbe3-4b0b-9aa7-ef49f6bd6594",
   "metadata": {},
   "source": [
    "\n",
    "s\r\n",
    "Create a column 'CATEGORY' and divide the houses in categories as following:\r\n",
    "\r\n",
    "Category 1: house price <10 lacs\r\n",
    "Category 2: 10 lacs <= house price <20 lacs\r\n",
    "Category 3: 20 lacs <= house price <30 lacs\r\n",
    "Category 4: 30 lacs <= house price <40 lacs\r\n",
    "Category 5: house price >=40 lacs\r\n",
    "\r\n",
    "Which category has the highest number of records?"
   ]
  },
  {
   "cell_type": "code",
   "execution_count": 178,
   "id": "faad2a64-e4ab-4f8b-9af6-76fd2b48f52b",
   "metadata": {},
   "outputs": [],
   "source": [
    "data['CATEGORY'] = \"\"\n",
    "\n",
    "data.loc[data['PRICE'] < 10, 'CATEGORY'] = 'CATEGORY 1'\n",
    "data.loc[(data['PRICE'] >= 10) & (data['PRICE'] < 20), 'CATEGORY'] = 'CATEGORY 2'\n",
    "data.loc[(data['PRICE'] >= 20) & (data['PRICE'] < 30), 'CATEGORY'] = 'CATEGORY 3'\n",
    "data.loc[(data['PRICE'] >= 30) & (data['PRICE'] < 40), 'CATEGORY'] = 'CATEGORY 4'\n",
    "data.loc[data['PRICE'] >= 40, 'CATEGORY'] = 'CATEGORY 5'\n"
   ]
  },
  {
   "cell_type": "code",
   "execution_count": 179,
   "id": "1e753297-3b3e-48a1-89d1-23ad1f79c0de",
   "metadata": {},
   "outputs": [
    {
     "data": {
      "text/plain": [
       "CATEGORY\n",
       "CATEGORY 3    2028\n",
       "CATEGORY 2    1158\n",
       "CATEGORY 4     503\n",
       "CATEGORY 5     268\n",
       "CATEGORY 1      43\n",
       "Name: count, dtype: int64"
      ]
     },
     "execution_count": 179,
     "metadata": {},
     "output_type": "execute_result"
    }
   ],
   "source": [
    "data['CATEGORY'].value_counts()"
   ]
  },
  {
   "cell_type": "markdown",
   "id": "c49c8290-8ad2-4232-8d9d-43e1a0e8603e",
   "metadata": {},
   "source": [
    "Apply Pre processing\r\n",
    "Divide the data into training and test sets\r\n",
    "\r\n",
    "1. Replace the respective missing or unknown values in features room count, riverside and age with np.nan.\r\n",
    "2. Keep 30% of the data as test set.\r\n",
    "3. Use random_state as 0\r\n",
    "4. PRICE is the target, rest of the columns are the features.\r\n",
    "5. Apply train test split.\r\n",
    "Hint: look for the documentation of the usual function that divides the data into training and test datasets.\r\n",
    "\r\n",
    "What is the number of samples in the training set?"
   ]
  },
  {
   "cell_type": "code",
   "execution_count": 181,
   "id": "85e2a8e3-8742-497d-8d96-a542f979d9d0",
   "metadata": {},
   "outputs": [
    {
     "data": {
      "text/plain": [
       "RM\n",
       " 7.0     1733\n",
       " 6.0      961\n",
       " 8.0      894\n",
       " 9.0      276\n",
       " 5.0       47\n",
       " 10.0      40\n",
       "-1.0       40\n",
       " 4.0        7\n",
       " 11.0       2\n",
       "Name: count, dtype: int64"
      ]
     },
     "execution_count": 181,
     "metadata": {},
     "output_type": "execute_result"
    }
   ],
   "source": [
    "data['RM'].value_counts()"
   ]
  },
  {
   "cell_type": "code",
   "execution_count": 182,
   "id": "2f6ff42d-c42b-47a7-9ef5-0c8f33e8bb13",
   "metadata": {},
   "outputs": [
    {
     "name": "stderr",
     "output_type": "stream",
     "text": [
      "C:\\Users\\SUDARKODI S\\AppData\\Local\\Temp\\ipykernel_12436\\588160054.py:2: FutureWarning: A value is trying to be set on a copy of a DataFrame or Series through chained assignment using an inplace method.\n",
      "The behavior will change in pandas 3.0. This inplace method will never work because the intermediate object on which we are setting values always behaves as a copy.\n",
      "\n",
      "For example, when doing 'df[col].method(value, inplace=True)', try using 'df.method({col: value}, inplace=True)' or df[col] = df[col].method(value) instead, to perform the operation inplace on the original object.\n",
      "\n",
      "\n",
      "  data['RM'].replace(-1, np.nan, inplace=True)\n",
      "C:\\Users\\SUDARKODI S\\AppData\\Local\\Temp\\ipykernel_12436\\588160054.py:3: FutureWarning: A value is trying to be set on a copy of a DataFrame or Series through chained assignment using an inplace method.\n",
      "The behavior will change in pandas 3.0. This inplace method will never work because the intermediate object on which we are setting values always behaves as a copy.\n",
      "\n",
      "For example, when doing 'df[col].method(value, inplace=True)', try using 'df.method({col: value}, inplace=True)' or df[col] = df[col].method(value) instead, to perform the operation inplace on the original object.\n",
      "\n",
      "\n",
      "  data['RIVERSIDE'].replace('Unknown', np.nan, inplace=True)\n",
      "C:\\Users\\SUDARKODI S\\AppData\\Local\\Temp\\ipykernel_12436\\588160054.py:4: FutureWarning: A value is trying to be set on a copy of a DataFrame or Series through chained assignment using an inplace method.\n",
      "The behavior will change in pandas 3.0. This inplace method will never work because the intermediate object on which we are setting values always behaves as a copy.\n",
      "\n",
      "For example, when doing 'df[col].method(value, inplace=True)', try using 'df.method({col: value}, inplace=True)' or df[col] = df[col].method(value) instead, to perform the operation inplace on the original object.\n",
      "\n",
      "\n",
      "  data['AGE'].replace(-2, np.nan, inplace=True)\n"
     ]
    },
    {
     "data": {
      "text/plain": [
       "2800"
      ]
     },
     "execution_count": 182,
     "metadata": {},
     "output_type": "execute_result"
    }
   ],
   "source": [
    "#Replace missing or unknown values with np.nan\n",
    "data['RM'].replace(-1, np.nan, inplace=True)\n",
    "data['RIVERSIDE'].replace('Unknown', np.nan, inplace=True)\n",
    "data['AGE'].replace(-2, np.nan, inplace=True)\n",
    "\n",
    "X=data.drop(columns='PRICE')\n",
    "y=data['PRICE']\n",
    "\n",
    "X_train,X_test,y_train,y_test=train_test_split(X,y,test_size=0.3,random_state=0)\n",
    "\n",
    "X_train.shape[0]"
   ]
  },
  {
   "cell_type": "markdown",
   "id": "af828ee2-425e-44fc-ae34-33336f8b101f",
   "metadata": {},
   "source": [
    "\n",
    "Apply following preprocessing steps:\r\n",
    "\r\n",
    "1. Drop CATEGORY column\r\n",
    "2. CRIM: min max scaling\r\n",
    "3. ZN: min max scaling\r\n",
    "4. INDUS: standard scaling\r\n",
    "5. POLINDEX: min max scaling\r\n",
    "6. DIS: min max scaling\r\n",
    "7. HIGHWAYCOUNT: min max scaling\r\n",
    "8. TAX: min max scaling\r\n",
    "9. PTRATIO: min max scaling\r\n",
    "10. IMM: min max scaling\r\n",
    "11. BPL: min max scaling\r\n",
    "12. RM: impute with median then min max scaling\r\n",
    "13. AGE: impute with mean then min max scaling\r\n",
    "14. RIVERSIDE: Impute with most frequent value then one hot encode.\r\n",
    "\r\n",
    "NOTE:\r\n",
    "1. Make sure to preprocess the features in exactly above order. Answer of Q.16 depends upon correct order of featuring processing.\r\n",
    "2. You may have to use multiple instances of a trasnformer for this question."
   ]
  },
  {
   "cell_type": "code",
   "execution_count": 184,
   "id": "5d8c3481-ef87-481d-82a8-daa4745dd501",
   "metadata": {},
   "outputs": [
    {
     "data": {
      "text/html": [
       "<div>\n",
       "<style scoped>\n",
       "    .dataframe tbody tr th:only-of-type {\n",
       "        vertical-align: middle;\n",
       "    }\n",
       "\n",
       "    .dataframe tbody tr th {\n",
       "        vertical-align: top;\n",
       "    }\n",
       "\n",
       "    .dataframe thead th {\n",
       "        text-align: right;\n",
       "    }\n",
       "</style>\n",
       "<table border=\"1\" class=\"dataframe\">\n",
       "  <thead>\n",
       "    <tr style=\"text-align: right;\">\n",
       "      <th></th>\n",
       "      <th>CRIM</th>\n",
       "      <th>ZN</th>\n",
       "      <th>INDUS</th>\n",
       "      <th>POLINDEX</th>\n",
       "      <th>RM</th>\n",
       "      <th>AGE</th>\n",
       "      <th>DIS</th>\n",
       "      <th>HIGHWAYCOUNT</th>\n",
       "      <th>TAX</th>\n",
       "      <th>PTRATIO</th>\n",
       "      <th>IMM</th>\n",
       "      <th>BPL</th>\n",
       "      <th>RIVERSIDE</th>\n",
       "      <th>CATEGORY</th>\n",
       "    </tr>\n",
       "  </thead>\n",
       "  <tbody>\n",
       "    <tr>\n",
       "      <th>2230</th>\n",
       "      <td>5.119010</td>\n",
       "      <td>1.001766</td>\n",
       "      <td>20.204259</td>\n",
       "      <td>1.841607</td>\n",
       "      <td>5.0</td>\n",
       "      <td>99.0</td>\n",
       "      <td>1.830930</td>\n",
       "      <td>6</td>\n",
       "      <td>404.172126</td>\n",
       "      <td>16.282827</td>\n",
       "      <td>397.422448</td>\n",
       "      <td>30.623960</td>\n",
       "      <td>UNKNOWN</td>\n",
       "      <td>CATEGORY 2</td>\n",
       "    </tr>\n",
       "    <tr>\n",
       "      <th>668</th>\n",
       "      <td>1.621067</td>\n",
       "      <td>0.324205</td>\n",
       "      <td>12.214205</td>\n",
       "      <td>2.194710</td>\n",
       "      <td>7.0</td>\n",
       "      <td>20.0</td>\n",
       "      <td>5.625645</td>\n",
       "      <td>4</td>\n",
       "      <td>305.034171</td>\n",
       "      <td>19.518516</td>\n",
       "      <td>377.181849</td>\n",
       "      <td>10.365622</td>\n",
       "      <td>NO</td>\n",
       "      <td>CATEGORY 3</td>\n",
       "    </tr>\n",
       "    <tr>\n",
       "      <th>3616</th>\n",
       "      <td>1.111056</td>\n",
       "      <td>28.462163</td>\n",
       "      <td>15.952834</td>\n",
       "      <td>1.451877</td>\n",
       "      <td>8.0</td>\n",
       "      <td>54.0</td>\n",
       "      <td>4.179237</td>\n",
       "      <td>4</td>\n",
       "      <td>271.112552</td>\n",
       "      <td>19.875992</td>\n",
       "      <td>395.341625</td>\n",
       "      <td>9.170143</td>\n",
       "      <td>NO</td>\n",
       "      <td>CATEGORY 3</td>\n",
       "    </tr>\n",
       "    <tr>\n",
       "      <th>2363</th>\n",
       "      <td>0.713366</td>\n",
       "      <td>28.383493</td>\n",
       "      <td>15.278092</td>\n",
       "      <td>0.802699</td>\n",
       "      <td>6.0</td>\n",
       "      <td>78.0</td>\n",
       "      <td>4.477986</td>\n",
       "      <td>5</td>\n",
       "      <td>270.628591</td>\n",
       "      <td>19.387296</td>\n",
       "      <td>399.052898</td>\n",
       "      <td>11.080110</td>\n",
       "      <td>NO</td>\n",
       "      <td>CATEGORY 3</td>\n",
       "    </tr>\n",
       "    <tr>\n",
       "      <th>142</th>\n",
       "      <td>3.065310</td>\n",
       "      <td>0.486206</td>\n",
       "      <td>19.616756</td>\n",
       "      <td>1.209707</td>\n",
       "      <td>6.0</td>\n",
       "      <td>95.0</td>\n",
       "      <td>2.107519</td>\n",
       "      <td>5</td>\n",
       "      <td>403.069501</td>\n",
       "      <td>15.744918</td>\n",
       "      <td>358.274105</td>\n",
       "      <td>31.037402</td>\n",
       "      <td>NO</td>\n",
       "      <td>CATEGORY 2</td>\n",
       "    </tr>\n",
       "    <tr>\n",
       "      <th>...</th>\n",
       "      <td>...</td>\n",
       "      <td>...</td>\n",
       "      <td>...</td>\n",
       "      <td>...</td>\n",
       "      <td>...</td>\n",
       "      <td>...</td>\n",
       "      <td>...</td>\n",
       "      <td>...</td>\n",
       "      <td>...</td>\n",
       "      <td>...</td>\n",
       "      <td>...</td>\n",
       "      <td>...</td>\n",
       "      <td>...</td>\n",
       "      <td>...</td>\n",
       "    </tr>\n",
       "    <tr>\n",
       "      <th>3627</th>\n",
       "      <td>0.916156</td>\n",
       "      <td>0.760632</td>\n",
       "      <td>29.492355</td>\n",
       "      <td>2.866264</td>\n",
       "      <td>6.0</td>\n",
       "      <td>99.0</td>\n",
       "      <td>1.983242</td>\n",
       "      <td>6</td>\n",
       "      <td>712.071209</td>\n",
       "      <td>20.179898</td>\n",
       "      <td>319.350642</td>\n",
       "      <td>30.410766</td>\n",
       "      <td>NO</td>\n",
       "      <td>CATEGORY 1</td>\n",
       "    </tr>\n",
       "    <tr>\n",
       "      <th>3217</th>\n",
       "      <td>0.306077</td>\n",
       "      <td>0.485842</td>\n",
       "      <td>7.630576</td>\n",
       "      <td>1.327517</td>\n",
       "      <td>7.0</td>\n",
       "      <td>75.0</td>\n",
       "      <td>5.569058</td>\n",
       "      <td>5</td>\n",
       "      <td>288.173767</td>\n",
       "      <td>20.691064</td>\n",
       "      <td>391.672537</td>\n",
       "      <td>12.878722</td>\n",
       "      <td>NO</td>\n",
       "      <td>CATEGORY 2</td>\n",
       "    </tr>\n",
       "    <tr>\n",
       "      <th>3964</th>\n",
       "      <td>7.549266</td>\n",
       "      <td>1.440834</td>\n",
       "      <td>18.134919</td>\n",
       "      <td>0.788392</td>\n",
       "      <td>7.0</td>\n",
       "      <td>84.0</td>\n",
       "      <td>3.340805</td>\n",
       "      <td>25</td>\n",
       "      <td>668.054642</td>\n",
       "      <td>20.753262</td>\n",
       "      <td>398.165389</td>\n",
       "      <td>14.022146</td>\n",
       "      <td>NO</td>\n",
       "      <td>CATEGORY 2</td>\n",
       "    </tr>\n",
       "    <tr>\n",
       "      <th>149</th>\n",
       "      <td>1.017516</td>\n",
       "      <td>1.197080</td>\n",
       "      <td>6.570995</td>\n",
       "      <td>0.564603</td>\n",
       "      <td>7.0</td>\n",
       "      <td>39.0</td>\n",
       "      <td>6.752163</td>\n",
       "      <td>9</td>\n",
       "      <td>224.981237</td>\n",
       "      <td>20.438245</td>\n",
       "      <td>396.459082</td>\n",
       "      <td>9.138325</td>\n",
       "      <td>NO</td>\n",
       "      <td>CATEGORY 3</td>\n",
       "    </tr>\n",
       "    <tr>\n",
       "      <th>3412</th>\n",
       "      <td>0.562994</td>\n",
       "      <td>30.388452</td>\n",
       "      <td>5.287367</td>\n",
       "      <td>1.492654</td>\n",
       "      <td>7.0</td>\n",
       "      <td>66.0</td>\n",
       "      <td>7.253463</td>\n",
       "      <td>7</td>\n",
       "      <td>300.635578</td>\n",
       "      <td>17.511622</td>\n",
       "      <td>395.255936</td>\n",
       "      <td>14.174622</td>\n",
       "      <td>NO</td>\n",
       "      <td>CATEGORY 3</td>\n",
       "    </tr>\n",
       "  </tbody>\n",
       "</table>\n",
       "<p>1200 rows × 14 columns</p>\n",
       "</div>"
      ],
      "text/plain": [
       "          CRIM         ZN      INDUS  POLINDEX   RM   AGE       DIS  \\\n",
       "2230  5.119010   1.001766  20.204259  1.841607  5.0  99.0  1.830930   \n",
       "668   1.621067   0.324205  12.214205  2.194710  7.0  20.0  5.625645   \n",
       "3616  1.111056  28.462163  15.952834  1.451877  8.0  54.0  4.179237   \n",
       "2363  0.713366  28.383493  15.278092  0.802699  6.0  78.0  4.477986   \n",
       "142   3.065310   0.486206  19.616756  1.209707  6.0  95.0  2.107519   \n",
       "...        ...        ...        ...       ...  ...   ...       ...   \n",
       "3627  0.916156   0.760632  29.492355  2.866264  6.0  99.0  1.983242   \n",
       "3217  0.306077   0.485842   7.630576  1.327517  7.0  75.0  5.569058   \n",
       "3964  7.549266   1.440834  18.134919  0.788392  7.0  84.0  3.340805   \n",
       "149   1.017516   1.197080   6.570995  0.564603  7.0  39.0  6.752163   \n",
       "3412  0.562994  30.388452   5.287367  1.492654  7.0  66.0  7.253463   \n",
       "\n",
       "      HIGHWAYCOUNT         TAX    PTRATIO         IMM        BPL RIVERSIDE  \\\n",
       "2230             6  404.172126  16.282827  397.422448  30.623960   UNKNOWN   \n",
       "668              4  305.034171  19.518516  377.181849  10.365622        NO   \n",
       "3616             4  271.112552  19.875992  395.341625   9.170143        NO   \n",
       "2363             5  270.628591  19.387296  399.052898  11.080110        NO   \n",
       "142              5  403.069501  15.744918  358.274105  31.037402        NO   \n",
       "...            ...         ...        ...         ...        ...       ...   \n",
       "3627             6  712.071209  20.179898  319.350642  30.410766        NO   \n",
       "3217             5  288.173767  20.691064  391.672537  12.878722        NO   \n",
       "3964            25  668.054642  20.753262  398.165389  14.022146        NO   \n",
       "149              9  224.981237  20.438245  396.459082   9.138325        NO   \n",
       "3412             7  300.635578  17.511622  395.255936  14.174622        NO   \n",
       "\n",
       "        CATEGORY  \n",
       "2230  CATEGORY 2  \n",
       "668   CATEGORY 3  \n",
       "3616  CATEGORY 3  \n",
       "2363  CATEGORY 3  \n",
       "142   CATEGORY 2  \n",
       "...          ...  \n",
       "3627  CATEGORY 1  \n",
       "3217  CATEGORY 2  \n",
       "3964  CATEGORY 2  \n",
       "149   CATEGORY 3  \n",
       "3412  CATEGORY 3  \n",
       "\n",
       "[1200 rows x 14 columns]"
      ]
     },
     "execution_count": 184,
     "metadata": {},
     "output_type": "execute_result"
    }
   ],
   "source": [
    "X_test"
   ]
  },
  {
   "cell_type": "code",
   "execution_count": 185,
   "id": "824425ae-7bb9-4a54-abb7-be1a04b9b005",
   "metadata": {},
   "outputs": [],
   "source": [
    "#Drop CATEGORY column\n",
    "X_train.drop(columns=['CATEGORY'],inplace=True)"
   ]
  },
  {
   "cell_type": "code",
   "execution_count": 186,
   "id": "fc4f99c0-50de-4ffd-a1dd-41e28b89a804",
   "metadata": {},
   "outputs": [],
   "source": [
    "\n",
    "preprocessor=ColumnTransformer(\n",
    "    [\n",
    "        ('crim',MinMaxScaler(),['CRIM']),\n",
    "        ('zn',MinMaxScaler(),['ZN']),\n",
    "        ('indus',StandardScaler(),['INDUS']),\n",
    "        ('poli',MinMaxScaler(),['POLINDEX']),\n",
    "        ('dis',MinMaxScaler(),['DIS']) ,\n",
    "        ('highway',MinMaxScaler(),['HIGHWAYCOUNT']),\n",
    "        ('tax',MinMaxScaler(),['TAX']),\n",
    "        ('ptratio',MinMaxScaler(),['PTRATIO']),\n",
    "        ('imm',MinMaxScaler(),['IMM']),\n",
    "        ('bpl',MinMaxScaler(),['BPL']),\n",
    "        ('rm',Pipeline([\n",
    "            ('rmImputer',SimpleImputer(strategy='median')),\n",
    "            ('rmScaler',MinMaxScaler())\n",
    "        ]),['RM']),\n",
    "        ('age',Pipeline([\n",
    "            ('ageImputer',SimpleImputer(strategy='mean')),\n",
    "            ('ageScaler',MinMaxScaler())\n",
    "        ]),['AGE']),\n",
    "        ('river',Pipeline([\n",
    "            ('riverImputer',SimpleImputer(strategy='most_frequent')),\n",
    "            ('onehot',OneHotEncoder(sparse_output=False))\n",
    "        ]),['RIVERSIDE']),\n",
    "    ],\n",
    "    remainder='passthrough'\n",
    ")\n"
   ]
  },
  {
   "cell_type": "code",
   "execution_count": 187,
   "id": "b5006b4d-d8d8-47a1-8429-b80e259bb4cb",
   "metadata": {},
   "outputs": [],
   "source": [
    "X_train_pre=preprocessor.fit_transform(X_train)\n"
   ]
  },
  {
   "cell_type": "code",
   "execution_count": 188,
   "id": "da3e6d29-b11e-4248-9ce1-73a67252e3d8",
   "metadata": {},
   "outputs": [
    {
     "data": {
      "text/plain": [
       "(2800, 15)"
      ]
     },
     "execution_count": 188,
     "metadata": {},
     "output_type": "execute_result"
    }
   ],
   "source": [
    "X_train_pre.shape"
   ]
  },
  {
   "cell_type": "markdown",
   "id": "cb4c0019-8ce0-4453-86cd-a10eb3f61635",
   "metadata": {},
   "source": [
    "\n",
    "What is the mean of the transformed test data (features only)?"
   ]
  },
  {
   "cell_type": "code",
   "execution_count": 190,
   "id": "e8a394db-eaa8-4d5b-b566-f80a31e50f22",
   "metadata": {},
   "outputs": [
    {
     "data": {
      "text/plain": [
       "0.3604295944757725"
      ]
     },
     "execution_count": 190,
     "metadata": {},
     "output_type": "execute_result"
    }
   ],
   "source": [
    "X_test_pre=preprocessor.transform(X_test)\n",
    "X_test_pre.mean()"
   ]
  },
  {
   "cell_type": "code",
   "execution_count": 191,
   "id": "d3ab495a-75a5-4a90-80d2-512b23663c37",
   "metadata": {},
   "outputs": [
    {
     "data": {
      "text/html": [
       "<div>\n",
       "<style scoped>\n",
       "    .dataframe tbody tr th:only-of-type {\n",
       "        vertical-align: middle;\n",
       "    }\n",
       "\n",
       "    .dataframe tbody tr th {\n",
       "        vertical-align: top;\n",
       "    }\n",
       "\n",
       "    .dataframe thead th {\n",
       "        text-align: right;\n",
       "    }\n",
       "</style>\n",
       "<table border=\"1\" class=\"dataframe\">\n",
       "  <thead>\n",
       "    <tr style=\"text-align: right;\">\n",
       "      <th></th>\n",
       "      <th>CRIM</th>\n",
       "      <th>ZN</th>\n",
       "      <th>INDUS</th>\n",
       "      <th>POLINDEX</th>\n",
       "      <th>RM</th>\n",
       "      <th>AGE</th>\n",
       "      <th>DIS</th>\n",
       "      <th>HIGHWAYCOUNT</th>\n",
       "      <th>TAX</th>\n",
       "      <th>PTRATIO</th>\n",
       "      <th>IMM</th>\n",
       "      <th>BPL</th>\n",
       "      <th>RIVERSIDE</th>\n",
       "      <th>CATEGORY</th>\n",
       "    </tr>\n",
       "  </thead>\n",
       "  <tbody>\n",
       "    <tr>\n",
       "      <th>2230</th>\n",
       "      <td>5.119010</td>\n",
       "      <td>1.001766</td>\n",
       "      <td>20.204259</td>\n",
       "      <td>1.841607</td>\n",
       "      <td>5.0</td>\n",
       "      <td>99.0</td>\n",
       "      <td>1.830930</td>\n",
       "      <td>6</td>\n",
       "      <td>404.172126</td>\n",
       "      <td>16.282827</td>\n",
       "      <td>397.422448</td>\n",
       "      <td>30.623960</td>\n",
       "      <td>UNKNOWN</td>\n",
       "      <td>CATEGORY 2</td>\n",
       "    </tr>\n",
       "    <tr>\n",
       "      <th>668</th>\n",
       "      <td>1.621067</td>\n",
       "      <td>0.324205</td>\n",
       "      <td>12.214205</td>\n",
       "      <td>2.194710</td>\n",
       "      <td>7.0</td>\n",
       "      <td>20.0</td>\n",
       "      <td>5.625645</td>\n",
       "      <td>4</td>\n",
       "      <td>305.034171</td>\n",
       "      <td>19.518516</td>\n",
       "      <td>377.181849</td>\n",
       "      <td>10.365622</td>\n",
       "      <td>NO</td>\n",
       "      <td>CATEGORY 3</td>\n",
       "    </tr>\n",
       "    <tr>\n",
       "      <th>3616</th>\n",
       "      <td>1.111056</td>\n",
       "      <td>28.462163</td>\n",
       "      <td>15.952834</td>\n",
       "      <td>1.451877</td>\n",
       "      <td>8.0</td>\n",
       "      <td>54.0</td>\n",
       "      <td>4.179237</td>\n",
       "      <td>4</td>\n",
       "      <td>271.112552</td>\n",
       "      <td>19.875992</td>\n",
       "      <td>395.341625</td>\n",
       "      <td>9.170143</td>\n",
       "      <td>NO</td>\n",
       "      <td>CATEGORY 3</td>\n",
       "    </tr>\n",
       "    <tr>\n",
       "      <th>2363</th>\n",
       "      <td>0.713366</td>\n",
       "      <td>28.383493</td>\n",
       "      <td>15.278092</td>\n",
       "      <td>0.802699</td>\n",
       "      <td>6.0</td>\n",
       "      <td>78.0</td>\n",
       "      <td>4.477986</td>\n",
       "      <td>5</td>\n",
       "      <td>270.628591</td>\n",
       "      <td>19.387296</td>\n",
       "      <td>399.052898</td>\n",
       "      <td>11.080110</td>\n",
       "      <td>NO</td>\n",
       "      <td>CATEGORY 3</td>\n",
       "    </tr>\n",
       "    <tr>\n",
       "      <th>142</th>\n",
       "      <td>3.065310</td>\n",
       "      <td>0.486206</td>\n",
       "      <td>19.616756</td>\n",
       "      <td>1.209707</td>\n",
       "      <td>6.0</td>\n",
       "      <td>95.0</td>\n",
       "      <td>2.107519</td>\n",
       "      <td>5</td>\n",
       "      <td>403.069501</td>\n",
       "      <td>15.744918</td>\n",
       "      <td>358.274105</td>\n",
       "      <td>31.037402</td>\n",
       "      <td>NO</td>\n",
       "      <td>CATEGORY 2</td>\n",
       "    </tr>\n",
       "    <tr>\n",
       "      <th>...</th>\n",
       "      <td>...</td>\n",
       "      <td>...</td>\n",
       "      <td>...</td>\n",
       "      <td>...</td>\n",
       "      <td>...</td>\n",
       "      <td>...</td>\n",
       "      <td>...</td>\n",
       "      <td>...</td>\n",
       "      <td>...</td>\n",
       "      <td>...</td>\n",
       "      <td>...</td>\n",
       "      <td>...</td>\n",
       "      <td>...</td>\n",
       "      <td>...</td>\n",
       "    </tr>\n",
       "    <tr>\n",
       "      <th>3627</th>\n",
       "      <td>0.916156</td>\n",
       "      <td>0.760632</td>\n",
       "      <td>29.492355</td>\n",
       "      <td>2.866264</td>\n",
       "      <td>6.0</td>\n",
       "      <td>99.0</td>\n",
       "      <td>1.983242</td>\n",
       "      <td>6</td>\n",
       "      <td>712.071209</td>\n",
       "      <td>20.179898</td>\n",
       "      <td>319.350642</td>\n",
       "      <td>30.410766</td>\n",
       "      <td>NO</td>\n",
       "      <td>CATEGORY 1</td>\n",
       "    </tr>\n",
       "    <tr>\n",
       "      <th>3217</th>\n",
       "      <td>0.306077</td>\n",
       "      <td>0.485842</td>\n",
       "      <td>7.630576</td>\n",
       "      <td>1.327517</td>\n",
       "      <td>7.0</td>\n",
       "      <td>75.0</td>\n",
       "      <td>5.569058</td>\n",
       "      <td>5</td>\n",
       "      <td>288.173767</td>\n",
       "      <td>20.691064</td>\n",
       "      <td>391.672537</td>\n",
       "      <td>12.878722</td>\n",
       "      <td>NO</td>\n",
       "      <td>CATEGORY 2</td>\n",
       "    </tr>\n",
       "    <tr>\n",
       "      <th>3964</th>\n",
       "      <td>7.549266</td>\n",
       "      <td>1.440834</td>\n",
       "      <td>18.134919</td>\n",
       "      <td>0.788392</td>\n",
       "      <td>7.0</td>\n",
       "      <td>84.0</td>\n",
       "      <td>3.340805</td>\n",
       "      <td>25</td>\n",
       "      <td>668.054642</td>\n",
       "      <td>20.753262</td>\n",
       "      <td>398.165389</td>\n",
       "      <td>14.022146</td>\n",
       "      <td>NO</td>\n",
       "      <td>CATEGORY 2</td>\n",
       "    </tr>\n",
       "    <tr>\n",
       "      <th>149</th>\n",
       "      <td>1.017516</td>\n",
       "      <td>1.197080</td>\n",
       "      <td>6.570995</td>\n",
       "      <td>0.564603</td>\n",
       "      <td>7.0</td>\n",
       "      <td>39.0</td>\n",
       "      <td>6.752163</td>\n",
       "      <td>9</td>\n",
       "      <td>224.981237</td>\n",
       "      <td>20.438245</td>\n",
       "      <td>396.459082</td>\n",
       "      <td>9.138325</td>\n",
       "      <td>NO</td>\n",
       "      <td>CATEGORY 3</td>\n",
       "    </tr>\n",
       "    <tr>\n",
       "      <th>3412</th>\n",
       "      <td>0.562994</td>\n",
       "      <td>30.388452</td>\n",
       "      <td>5.287367</td>\n",
       "      <td>1.492654</td>\n",
       "      <td>7.0</td>\n",
       "      <td>66.0</td>\n",
       "      <td>7.253463</td>\n",
       "      <td>7</td>\n",
       "      <td>300.635578</td>\n",
       "      <td>17.511622</td>\n",
       "      <td>395.255936</td>\n",
       "      <td>14.174622</td>\n",
       "      <td>NO</td>\n",
       "      <td>CATEGORY 3</td>\n",
       "    </tr>\n",
       "  </tbody>\n",
       "</table>\n",
       "<p>1200 rows × 14 columns</p>\n",
       "</div>"
      ],
      "text/plain": [
       "          CRIM         ZN      INDUS  POLINDEX   RM   AGE       DIS  \\\n",
       "2230  5.119010   1.001766  20.204259  1.841607  5.0  99.0  1.830930   \n",
       "668   1.621067   0.324205  12.214205  2.194710  7.0  20.0  5.625645   \n",
       "3616  1.111056  28.462163  15.952834  1.451877  8.0  54.0  4.179237   \n",
       "2363  0.713366  28.383493  15.278092  0.802699  6.0  78.0  4.477986   \n",
       "142   3.065310   0.486206  19.616756  1.209707  6.0  95.0  2.107519   \n",
       "...        ...        ...        ...       ...  ...   ...       ...   \n",
       "3627  0.916156   0.760632  29.492355  2.866264  6.0  99.0  1.983242   \n",
       "3217  0.306077   0.485842   7.630576  1.327517  7.0  75.0  5.569058   \n",
       "3964  7.549266   1.440834  18.134919  0.788392  7.0  84.0  3.340805   \n",
       "149   1.017516   1.197080   6.570995  0.564603  7.0  39.0  6.752163   \n",
       "3412  0.562994  30.388452   5.287367  1.492654  7.0  66.0  7.253463   \n",
       "\n",
       "      HIGHWAYCOUNT         TAX    PTRATIO         IMM        BPL RIVERSIDE  \\\n",
       "2230             6  404.172126  16.282827  397.422448  30.623960   UNKNOWN   \n",
       "668              4  305.034171  19.518516  377.181849  10.365622        NO   \n",
       "3616             4  271.112552  19.875992  395.341625   9.170143        NO   \n",
       "2363             5  270.628591  19.387296  399.052898  11.080110        NO   \n",
       "142              5  403.069501  15.744918  358.274105  31.037402        NO   \n",
       "...            ...         ...        ...         ...        ...       ...   \n",
       "3627             6  712.071209  20.179898  319.350642  30.410766        NO   \n",
       "3217             5  288.173767  20.691064  391.672537  12.878722        NO   \n",
       "3964            25  668.054642  20.753262  398.165389  14.022146        NO   \n",
       "149              9  224.981237  20.438245  396.459082   9.138325        NO   \n",
       "3412             7  300.635578  17.511622  395.255936  14.174622        NO   \n",
       "\n",
       "        CATEGORY  \n",
       "2230  CATEGORY 2  \n",
       "668   CATEGORY 3  \n",
       "3616  CATEGORY 3  \n",
       "2363  CATEGORY 3  \n",
       "142   CATEGORY 2  \n",
       "...          ...  \n",
       "3627  CATEGORY 1  \n",
       "3217  CATEGORY 2  \n",
       "3964  CATEGORY 2  \n",
       "149   CATEGORY 3  \n",
       "3412  CATEGORY 3  \n",
       "\n",
       "[1200 rows x 14 columns]"
      ]
     },
     "execution_count": 191,
     "metadata": {},
     "output_type": "execute_result"
    }
   ],
   "source": [
    "X_test"
   ]
  },
  {
   "cell_type": "code",
   "execution_count": null,
   "id": "98099b58-9b3e-46f3-b11a-c0ddd0fd7b03",
   "metadata": {},
   "outputs": [],
   "source": []
  }
 ],
 "metadata": {
  "kernelspec": {
   "display_name": "Python 3 (ipykernel)",
   "language": "python",
   "name": "python3"
  },
  "language_info": {
   "codemirror_mode": {
    "name": "ipython",
    "version": 3
   },
   "file_extension": ".py",
   "mimetype": "text/x-python",
   "name": "python",
   "nbconvert_exporter": "python",
   "pygments_lexer": "ipython3",
   "version": "3.12.4"
  }
 },
 "nbformat": 4,
 "nbformat_minor": 5
}
