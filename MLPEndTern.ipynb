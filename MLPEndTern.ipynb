{
  "nbformat": 4,
  "nbformat_minor": 0,
  "metadata": {
    "colab": {
      "provenance": [],
      "authorship_tag": "ABX9TyNyrUQCdtSsccxDutPYNA1E",
      "include_colab_link": true
    },
    "kernelspec": {
      "name": "python3",
      "display_name": "Python 3"
    },
    "language_info": {
      "name": "python"
    }
  },
  "cells": [
    {
      "cell_type": "markdown",
      "metadata": {
        "id": "view-in-github",
        "colab_type": "text"
      },
      "source": [
        "<a href=\"https://colab.research.google.com/github/Sudar1612/MLP/blob/main/MLPEndTern.ipynb\" target=\"_parent\"><img src=\"https://colab.research.google.com/assets/colab-badge.svg\" alt=\"Open In Colab\"/></a>"
      ]
    },
    {
      "cell_type": "code",
      "execution_count": null,
      "metadata": {
        "colab": {
          "base_uri": "https://localhost:8080/",
          "height": 321
        },
        "id": "IQhuuAg8lO7F",
        "outputId": "4e5d8c48-ea05-4644-8ab1-137b2383b3ba"
      },
      "outputs": [
        {
          "output_type": "error",
          "ename": "ValueError",
          "evalue": "n_samples=7 should be >= n_clusters=8.",
          "traceback": [
            "\u001b[0;31m---------------------------------------------------------------------------\u001b[0m",
            "\u001b[0;31mValueError\u001b[0m                                Traceback (most recent call last)",
            "\u001b[0;32m<ipython-input-1-4983d6265075>\u001b[0m in \u001b[0;36m<cell line: 11>\u001b[0;34m()\u001b[0m\n\u001b[1;32m      9\u001b[0m \u001b[0;34m\u001b[0m\u001b[0m\n\u001b[1;32m     10\u001b[0m \u001b[0;31m# Fit KMeans to the data\u001b[0m\u001b[0;34m\u001b[0m\u001b[0;34m\u001b[0m\u001b[0m\n\u001b[0;32m---> 11\u001b[0;31m \u001b[0mkm\u001b[0m\u001b[0;34m.\u001b[0m\u001b[0mfit\u001b[0m\u001b[0;34m(\u001b[0m\u001b[0mX\u001b[0m\u001b[0;34m)\u001b[0m\u001b[0;34m\u001b[0m\u001b[0;34m\u001b[0m\u001b[0m\n\u001b[0m",
            "\u001b[0;32m/usr/local/lib/python3.10/dist-packages/sklearn/base.py\u001b[0m in \u001b[0;36mwrapper\u001b[0;34m(estimator, *args, **kwargs)\u001b[0m\n\u001b[1;32m   1150\u001b[0m                 )\n\u001b[1;32m   1151\u001b[0m             ):\n\u001b[0;32m-> 1152\u001b[0;31m                 \u001b[0;32mreturn\u001b[0m \u001b[0mfit_method\u001b[0m\u001b[0;34m(\u001b[0m\u001b[0mestimator\u001b[0m\u001b[0;34m,\u001b[0m \u001b[0;34m*\u001b[0m\u001b[0margs\u001b[0m\u001b[0;34m,\u001b[0m \u001b[0;34m**\u001b[0m\u001b[0mkwargs\u001b[0m\u001b[0;34m)\u001b[0m\u001b[0;34m\u001b[0m\u001b[0;34m\u001b[0m\u001b[0m\n\u001b[0m\u001b[1;32m   1153\u001b[0m \u001b[0;34m\u001b[0m\u001b[0m\n\u001b[1;32m   1154\u001b[0m         \u001b[0;32mreturn\u001b[0m \u001b[0mwrapper\u001b[0m\u001b[0;34m\u001b[0m\u001b[0;34m\u001b[0m\u001b[0m\n",
            "\u001b[0;32m/usr/local/lib/python3.10/dist-packages/sklearn/cluster/_kmeans.py\u001b[0m in \u001b[0;36mfit\u001b[0;34m(self, X, y, sample_weight)\u001b[0m\n\u001b[1;32m   1482\u001b[0m         )\n\u001b[1;32m   1483\u001b[0m \u001b[0;34m\u001b[0m\u001b[0m\n\u001b[0;32m-> 1484\u001b[0;31m         \u001b[0mself\u001b[0m\u001b[0;34m.\u001b[0m\u001b[0m_check_params_vs_input\u001b[0m\u001b[0;34m(\u001b[0m\u001b[0mX\u001b[0m\u001b[0;34m)\u001b[0m\u001b[0;34m\u001b[0m\u001b[0;34m\u001b[0m\u001b[0m\n\u001b[0m\u001b[1;32m   1485\u001b[0m \u001b[0;34m\u001b[0m\u001b[0m\n\u001b[1;32m   1486\u001b[0m         \u001b[0mrandom_state\u001b[0m \u001b[0;34m=\u001b[0m \u001b[0mcheck_random_state\u001b[0m\u001b[0;34m(\u001b[0m\u001b[0mself\u001b[0m\u001b[0;34m.\u001b[0m\u001b[0mrandom_state\u001b[0m\u001b[0;34m)\u001b[0m\u001b[0;34m\u001b[0m\u001b[0;34m\u001b[0m\u001b[0m\n",
            "\u001b[0;32m/usr/local/lib/python3.10/dist-packages/sklearn/cluster/_kmeans.py\u001b[0m in \u001b[0;36m_check_params_vs_input\u001b[0;34m(self, X)\u001b[0m\n\u001b[1;32m   1414\u001b[0m \u001b[0;34m\u001b[0m\u001b[0m\n\u001b[1;32m   1415\u001b[0m     \u001b[0;32mdef\u001b[0m \u001b[0m_check_params_vs_input\u001b[0m\u001b[0;34m(\u001b[0m\u001b[0mself\u001b[0m\u001b[0;34m,\u001b[0m \u001b[0mX\u001b[0m\u001b[0;34m)\u001b[0m\u001b[0;34m:\u001b[0m\u001b[0;34m\u001b[0m\u001b[0;34m\u001b[0m\u001b[0m\n\u001b[0;32m-> 1416\u001b[0;31m         \u001b[0msuper\u001b[0m\u001b[0;34m(\u001b[0m\u001b[0;34m)\u001b[0m\u001b[0;34m.\u001b[0m\u001b[0m_check_params_vs_input\u001b[0m\u001b[0;34m(\u001b[0m\u001b[0mX\u001b[0m\u001b[0;34m,\u001b[0m \u001b[0mdefault_n_init\u001b[0m\u001b[0;34m=\u001b[0m\u001b[0;36m10\u001b[0m\u001b[0;34m)\u001b[0m\u001b[0;34m\u001b[0m\u001b[0;34m\u001b[0m\u001b[0m\n\u001b[0m\u001b[1;32m   1417\u001b[0m \u001b[0;34m\u001b[0m\u001b[0m\n\u001b[1;32m   1418\u001b[0m         \u001b[0mself\u001b[0m\u001b[0;34m.\u001b[0m\u001b[0m_algorithm\u001b[0m \u001b[0;34m=\u001b[0m \u001b[0mself\u001b[0m\u001b[0;34m.\u001b[0m\u001b[0malgorithm\u001b[0m\u001b[0;34m\u001b[0m\u001b[0;34m\u001b[0m\u001b[0m\n",
            "\u001b[0;32m/usr/local/lib/python3.10/dist-packages/sklearn/cluster/_kmeans.py\u001b[0m in \u001b[0;36m_check_params_vs_input\u001b[0;34m(self, X, default_n_init)\u001b[0m\n\u001b[1;32m    864\u001b[0m         \u001b[0;31m# n_clusters\u001b[0m\u001b[0;34m\u001b[0m\u001b[0;34m\u001b[0m\u001b[0m\n\u001b[1;32m    865\u001b[0m         \u001b[0;32mif\u001b[0m \u001b[0mX\u001b[0m\u001b[0;34m.\u001b[0m\u001b[0mshape\u001b[0m\u001b[0;34m[\u001b[0m\u001b[0;36m0\u001b[0m\u001b[0;34m]\u001b[0m \u001b[0;34m<\u001b[0m \u001b[0mself\u001b[0m\u001b[0;34m.\u001b[0m\u001b[0mn_clusters\u001b[0m\u001b[0;34m:\u001b[0m\u001b[0;34m\u001b[0m\u001b[0;34m\u001b[0m\u001b[0m\n\u001b[0;32m--> 866\u001b[0;31m             raise ValueError(\n\u001b[0m\u001b[1;32m    867\u001b[0m                 \u001b[0;34mf\"n_samples={X.shape[0]} should be >= n_clusters={self.n_clusters}.\"\u001b[0m\u001b[0;34m\u001b[0m\u001b[0;34m\u001b[0m\u001b[0m\n\u001b[1;32m    868\u001b[0m             )\n",
            "\u001b[0;31mValueError\u001b[0m: n_samples=7 should be >= n_clusters=8."
          ]
        }
      ],
      "source": [
        "from sklearn.datasets import make_blobs\n",
        "from sklearn.cluster import KMeans\n",
        "\n",
        "# Generate a dataset with 7 samples, 2 features, and 2 centers (clusters)\n",
        "X, y = make_blobs(n_samples=7, n_features=2, centers=2, random_state=42)\n",
        "\n",
        "# Initialize KMeans to find 8 clusters with random initialization\n",
        "km = KMeans(n_clusters=8, init='random', n_init=1, random_state=42)\n",
        "\n",
        "# Fit KMeans to the data\n",
        "km.fit(X)\n"
      ]
    },
    {
      "cell_type": "code",
      "source": [
        "from sklearn.preprocessing import MaxAbsScaler\n",
        "a = [[-3], [0], [-2], [1], [-1],[ -4]]\n",
        "mas = MaxAbsScaler()\n",
        "scaled_a = mas.fit_transform(a)\n",
        "print(scaled_a.max())"
      ],
      "metadata": {
        "id": "olq9c58LlS2a",
        "colab": {
          "base_uri": "https://localhost:8080/"
        },
        "outputId": "114db57c-1ec7-4881-8be2-991a70113816"
      },
      "execution_count": null,
      "outputs": [
        {
          "output_type": "stream",
          "name": "stdout",
          "text": [
            "0.25\n"
          ]
        }
      ]
    },
    {
      "cell_type": "code",
      "source": [
        "scaled_a"
      ],
      "metadata": {
        "colab": {
          "base_uri": "https://localhost:8080/"
        },
        "id": "EafkVnM05xcB",
        "outputId": "df9ae677-d6e4-436c-8ab7-c24ff31e1595"
      },
      "execution_count": null,
      "outputs": [
        {
          "output_type": "execute_result",
          "data": {
            "text/plain": [
              "array([[-0.75],\n",
              "       [ 0.  ],\n",
              "       [-0.5 ],\n",
              "       [ 0.25],\n",
              "       [-0.25],\n",
              "       [-1.  ]])"
            ]
          },
          "metadata": {},
          "execution_count": 2
        }
      ]
    },
    {
      "cell_type": "code",
      "source": [
        "from sklearn.preprocessing import MultiLabelBinarizer\n",
        "mlb = MultiLabelBinarizer(classes=['regular', 'medium', 'veg', 'non-veg'])\n",
        "y_train = [['regular', 'veg'], ['medium', 'veg'], ['medium', 'non-veg']]\n",
        "print(mlb.fit_transform(y_train))\n"
      ],
      "metadata": {
        "colab": {
          "base_uri": "https://localhost:8080/"
        },
        "id": "uLHqtR3b50Uv",
        "outputId": "13425cc7-23ec-4f47-84c5-3f5ef8536814"
      },
      "execution_count": null,
      "outputs": [
        {
          "output_type": "stream",
          "name": "stdout",
          "text": [
            "[[1 0 1 0]\n",
            " [0 1 1 0]\n",
            " [0 1 0 1]]\n"
          ]
        }
      ]
    },
    {
      "cell_type": "code",
      "source": [
        "from sklearn.preprocessing import LabelEncoder\n",
        "data = [\"apple\", \"orange\", \"banana\", \"apple\", \"grape\", \"orange\", \"grape\"]\n",
        "encoder = LabelEncoder()\n",
        "encoded_data = encoder.fit_transform(data)\n",
        "print(encoded_data)"
      ],
      "metadata": {
        "colab": {
          "base_uri": "https://localhost:8080/"
        },
        "id": "HJ8CnIty6Bin",
        "outputId": "b77d4c17-8f10-47f7-8145-15128151035b"
      },
      "execution_count": null,
      "outputs": [
        {
          "output_type": "stream",
          "name": "stdout",
          "text": [
            "[0 3 1 0 2 3 2]\n"
          ]
        }
      ]
    },
    {
      "cell_type": "code",
      "source": [
        "encoder.transform([\"orange\"])"
      ],
      "metadata": {
        "colab": {
          "base_uri": "https://localhost:8080/"
        },
        "id": "lIm4uZJWE4Op",
        "outputId": "4ea8cab8-6d8c-4e4f-902c-f64662a56b1e"
      },
      "execution_count": null,
      "outputs": [
        {
          "output_type": "execute_result",
          "data": {
            "text/plain": [
              "array([3])"
            ]
          },
          "metadata": {},
          "execution_count": 6
        }
      ]
    },
    {
      "cell_type": "code",
      "source": [
        "from sklearn.pipeline import Pipeline\n",
        "from sklearn.preprocessing import MinMaxScaler, Binarizer\n",
        "\n",
        "data = [[1, 5], [5, 15], [0, 10], [1, 15]]\n",
        "pipeline = Pipeline([('scaler', MinMaxScaler()), ('binarize', Binarizer(threshold=0.1))])\n",
        "transformed_data = pipeline.fit_transform(data)\n",
        "\n",
        "print(transformed_data)"
      ],
      "metadata": {
        "colab": {
          "base_uri": "https://localhost:8080/"
        },
        "id": "FiK2frCyFPlk",
        "outputId": "233dc6ac-6d48-4d2c-acfa-78734c4a03f8"
      },
      "execution_count": null,
      "outputs": [
        {
          "output_type": "stream",
          "name": "stdout",
          "text": [
            "[[1. 0.]\n",
            " [1. 1.]\n",
            " [0. 1.]\n",
            " [1. 1.]]\n"
          ]
        }
      ]
    },
    {
      "cell_type": "code",
      "source": [
        "import numpy as np\n",
        "from sklearn.decomposition import PCA\n",
        "\n",
        "np.random.seed(42)\n",
        "X = np.random.rand(100, 10)\n",
        "pca = PCA(n_components=4)\n",
        "X_pca = pca.fit_transform(X)\n",
        "explained_variance = np.sum(pca.explained_variance_ratio_)\n"
      ],
      "metadata": {
        "id": "XWWwfaVeHJdA"
      },
      "execution_count": null,
      "outputs": []
    },
    {
      "cell_type": "code",
      "source": [
        "explained_variance"
      ],
      "metadata": {
        "colab": {
          "base_uri": "https://localhost:8080/"
        },
        "id": "zo-PtDv8H6X3",
        "outputId": "706ca033-0a91-42ef-8147-40f0b8788e79"
      },
      "execution_count": null,
      "outputs": [
        {
          "output_type": "execute_result",
          "data": {
            "text/plain": [
              "0.5243949119023626"
            ]
          },
          "metadata": {},
          "execution_count": 10
        }
      ]
    },
    {
      "cell_type": "code",
      "source": [
        "import numpy as np\n",
        "from sklearn.preprocessing import PolynomialFeatures\n",
        "\n",
        "# Sampled data\n",
        "X = np.array([1, 2, 3, 4, 5])\n",
        "\n",
        "# Reshape the features\n",
        "X = X.reshape(-1, 1)\n",
        "\n",
        "poly = PolynomialFeatures(degree=3)\n",
        "X_poly = poly.fit_transform(X)\n"
      ],
      "metadata": {
        "id": "5qt--o5WH9Pl"
      },
      "execution_count": null,
      "outputs": []
    },
    {
      "cell_type": "code",
      "source": [
        "X"
      ],
      "metadata": {
        "colab": {
          "base_uri": "https://localhost:8080/"
        },
        "id": "WPCWnn8TKJ59",
        "outputId": "1140f7b3-b2e9-4c13-edd4-e849ce3e2ebf"
      },
      "execution_count": null,
      "outputs": [
        {
          "output_type": "execute_result",
          "data": {
            "text/plain": [
              "array([[1],\n",
              "       [2],\n",
              "       [3],\n",
              "       [4],\n",
              "       [5]])"
            ]
          },
          "metadata": {},
          "execution_count": 12
        }
      ]
    },
    {
      "cell_type": "code",
      "source": [
        "X.shape"
      ],
      "metadata": {
        "colab": {
          "base_uri": "https://localhost:8080/"
        },
        "id": "loLUGHX6KKdp",
        "outputId": "cdd766e8-aee1-4073-e3b1-891a205a8826"
      },
      "execution_count": null,
      "outputs": [
        {
          "output_type": "execute_result",
          "data": {
            "text/plain": [
              "(5, 1)"
            ]
          },
          "metadata": {},
          "execution_count": 13
        }
      ]
    },
    {
      "cell_type": "code",
      "source": [
        "X_poly"
      ],
      "metadata": {
        "colab": {
          "base_uri": "https://localhost:8080/"
        },
        "id": "PjkJ0g9CKSEQ",
        "outputId": "26db72ed-9660-4f11-d434-4c520ebff218"
      },
      "execution_count": null,
      "outputs": [
        {
          "output_type": "execute_result",
          "data": {
            "text/plain": [
              "array([[  1.,   1.,   1.,   1.],\n",
              "       [  1.,   2.,   4.,   8.],\n",
              "       [  1.,   3.,   9.,  27.],\n",
              "       [  1.,   4.,  16.,  64.],\n",
              "       [  1.,   5.,  25., 125.]])"
            ]
          },
          "metadata": {},
          "execution_count": 18
        }
      ]
    },
    {
      "cell_type": "code",
      "source": [
        "data = [[1, 3], [2, 4]]\n",
        "from sklearn.preprocessing import PolynomialFeatures\n",
        "pf = PolynomialFeatures(degree=3, interaction_only=False)\n",
        "print(pf.fit_transform(data))\n"
      ],
      "metadata": {
        "colab": {
          "base_uri": "https://localhost:8080/"
        },
        "id": "_SZzAAyiK9aw",
        "outputId": "e2e2181f-4198-4d5c-e8fe-366d5902a6f5"
      },
      "execution_count": null,
      "outputs": [
        {
          "output_type": "stream",
          "name": "stdout",
          "text": [
            "[[ 1.  1.  3.  1.  3.  9.  1.  3.  9. 27.]\n",
            " [ 1.  2.  4.  4.  8. 16.  8. 16. 32. 64.]]\n"
          ]
        }
      ]
    },
    {
      "cell_type": "code",
      "source": [
        "import numpy as np\n",
        "from sklearn.preprocessing import StandardScaler\n",
        "from sklearn.impute import SimpleImputer\n",
        "from sklearn.pipeline import Pipeline\n",
        "\n",
        "X_train = [[1], [2], [3], [np.nan], [4], [np.nan], [5]]\n",
        "pipe = Pipeline(steps=[('impute', SimpleImputer(strategy='mean')),\n",
        "                       ('scale', StandardScaler())])\n",
        "pipe.fit(X_train)\n",
        "print(pipe[1])"
      ],
      "metadata": {
        "id": "rBuNWS3yL5hh",
        "colab": {
          "base_uri": "https://localhost:8080/"
        },
        "outputId": "24bb42f8-7f24-4f95-d4df-c8a803a89abe"
      },
      "execution_count": 3,
      "outputs": [
        {
          "output_type": "stream",
          "name": "stdout",
          "text": [
            "StandardScaler()\n"
          ]
        }
      ]
    },
    {
      "cell_type": "code",
      "source": [
        "pipe.transform(X_train)"
      ],
      "metadata": {
        "colab": {
          "base_uri": "https://localhost:8080/"
        },
        "id": "HR-emQrqBL6k",
        "outputId": "05b28b6a-ea3a-40c2-e71e-60178c189e44"
      },
      "execution_count": 5,
      "outputs": [
        {
          "output_type": "execute_result",
          "data": {
            "text/plain": [
              "array([[-1.67332005],\n",
              "       [-0.83666003],\n",
              "       [ 0.        ],\n",
              "       [ 0.        ],\n",
              "       [ 0.83666003],\n",
              "       [ 0.        ],\n",
              "       [ 1.67332005]])"
            ]
          },
          "metadata": {},
          "execution_count": 5
        }
      ]
    },
    {
      "cell_type": "code",
      "source": [
        "from sklearn.naive_bayes import GaussianNB\n",
        "import numpy as np\n",
        "\n",
        "X = np.array([[1.0, 2.0],\n",
        "              [2.5, 3.5],\n",
        "              [3.0, 5.0]])\n",
        "y = np.array([0, 1, 0])\n",
        "\n",
        "classifier = GaussianNB()\n",
        "classifier.fit(X, y)\n",
        "\n",
        "new_data = np.array([[2.0, 3.0]])\n",
        "predicted_proba = classifier.predict_proba(new_data)"
      ],
      "metadata": {
        "id": "i2rmV6-oBYsN"
      },
      "execution_count": 6,
      "outputs": []
    },
    {
      "cell_type": "code",
      "source": [
        "predicted_proba"
      ],
      "metadata": {
        "colab": {
          "base_uri": "https://localhost:8080/"
        },
        "id": "2CwEUgWYCJTe",
        "outputId": "ddbcd539-5fbd-461b-8f4f-bd88b2b31829"
      },
      "execution_count": 7,
      "outputs": [
        {
          "output_type": "execute_result",
          "data": {
            "text/plain": [
              "array([[1., 0.]])"
            ]
          },
          "metadata": {},
          "execution_count": 7
        }
      ]
    },
    {
      "cell_type": "code",
      "source": [
        "from sklearn.preprocessing import LabelEncoder\n",
        "\n",
        "data = [\"cat\", \"dog\", \"fish\", \"cat\", \"bird\", \"dog\", \"bird\"]\n",
        "encoder = LabelEncoder()\n",
        "encoded_data = encoder.fit_transform(data)\n",
        "print(encoded_data)\n"
      ],
      "metadata": {
        "colab": {
          "base_uri": "https://localhost:8080/"
        },
        "id": "kU6jjSC4CK5f",
        "outputId": "49271766-69d9-4edc-d781-77fbbe6fda79"
      },
      "execution_count": 8,
      "outputs": [
        {
          "output_type": "stream",
          "name": "stdout",
          "text": [
            "[1 2 3 1 0 2 0]\n"
          ]
        }
      ]
    },
    {
      "cell_type": "code",
      "source": [
        "from sklearn.datasets import fetch_california_housing\n",
        "from sklearn.decomposition import PCA\n",
        "from sklearn.preprocessing import StandardScaler, PolynomialFeatures\n",
        "from sklearn.pipeline import Pipeline, FeatureUnion\n",
        "\n",
        "data = fetch_california_housing()\n",
        "X = data.data\n",
        "\n",
        "polynomial_transform = PolynomialFeatures(degree=2, include_bias=False)\n",
        "pca_transform = PCA(n_components=5)\n",
        "scaler = StandardScaler()\n",
        "\n",
        "combined_features = FeatureUnion([('poly', polynomial_transform),\n",
        "                                  ('pca', pca_transform)])\n",
        "\n",
        "pipeline = Pipeline([('features', combined_features),\n",
        "                     ('scaler', scaler)])\n",
        "\n",
        "X_transformed = pipeline.fit_transform(X)\n",
        "print(X_transformed.shape)\n"
      ],
      "metadata": {
        "colab": {
          "base_uri": "https://localhost:8080/"
        },
        "id": "52IE9Q0pGbYr",
        "outputId": "663230d9-7a6f-48b9-d7ec-707c4308f3fa"
      },
      "execution_count": 9,
      "outputs": [
        {
          "output_type": "stream",
          "name": "stdout",
          "text": [
            "(20640, 49)\n"
          ]
        }
      ]
    },
    {
      "cell_type": "code",
      "source": [
        "from sklearn.datasets import fetch_california_housing\n",
        "from sklearn.decomposition import PCA\n",
        "from sklearn.preprocessing import StandardScaler, PolynomialFeatures\n",
        "from sklearn.pipeline import Pipeline, FeatureUnion\n",
        "\n",
        "data = fetch_california_housing()\n",
        "X = data.data\n",
        "\n",
        "polynomial_transform = PolynomialFeatures(degree=3, include_bias=False)\n",
        "pca_transform = PCA(n_components=5)\n",
        "scaler = StandardScaler()\n",
        "\n",
        "combined_features = FeatureUnion([('poly', polynomial_transform),\n",
        "                                  ('pca', pca_transform)])\n",
        "\n",
        "pipeline = Pipeline([('features', combined_features),\n",
        "                     ('scaler', scaler)])\n",
        "\n",
        "X_transformed = pipeline.fit_transform(X)\n",
        "print(X_transformed.shape)\n"
      ],
      "metadata": {
        "colab": {
          "base_uri": "https://localhost:8080/"
        },
        "id": "15AUK4XGLEh2",
        "outputId": "a0213558-7a11-42e5-ebce-1ac43a17d27e"
      },
      "execution_count": 10,
      "outputs": [
        {
          "output_type": "stream",
          "name": "stdout",
          "text": [
            "(20640, 169)\n"
          ]
        }
      ]
    },
    {
      "cell_type": "code",
      "source": [
        "from sklearn.preprocessing import StandardScaler\n",
        "import numpy as np\n",
        "\n",
        "data = np.array([[2.0, 5.0],\n",
        "                 [4.0, 8.0],\n",
        "                 [6.0, 12.0]])\n",
        "\n",
        "scaler = StandardScaler()\n",
        "scaled_data = scaler.fit_transform(data)\n",
        "\n",
        "print(\"Original data:\\n\", data)\n",
        "print(\"\\nScaled data:\\n\", scaled_data)\n"
      ],
      "metadata": {
        "colab": {
          "base_uri": "https://localhost:8080/"
        },
        "id": "t87LOCgtNhCa",
        "outputId": "e8f61fc0-9b29-4479-e41a-bc5ba276e493"
      },
      "execution_count": 11,
      "outputs": [
        {
          "output_type": "stream",
          "name": "stdout",
          "text": [
            "Original data:\n",
            " [[ 2.  5.]\n",
            " [ 4.  8.]\n",
            " [ 6. 12.]]\n",
            "\n",
            "Scaled data:\n",
            " [[-1.22474487 -1.16247639]\n",
            " [ 0.         -0.11624764]\n",
            " [ 1.22474487  1.27872403]]\n"
          ]
        }
      ]
    },
    {
      "cell_type": "code",
      "source": [
        "data = [[1, 3],\n",
        "        [2, 4]]\n",
        "\n",
        "from sklearn.preprocessing import PolynomialFeatures\n",
        "pf = PolynomialFeatures(degree=3, interaction_only=True)\n",
        "print(pf.fit_transform(data))\n"
      ],
      "metadata": {
        "colab": {
          "base_uri": "https://localhost:8080/"
        },
        "id": "b_OIXXLrORLr",
        "outputId": "4051d636-db81-4aad-8b81-b9d6196cc895"
      },
      "execution_count": 12,
      "outputs": [
        {
          "output_type": "stream",
          "name": "stdout",
          "text": [
            "[[1. 1. 3. 3.]\n",
            " [1. 2. 4. 8.]]\n"
          ]
        }
      ]
    },
    {
      "cell_type": "code",
      "source": [
        "from sklearn.neural_network import MLPClassifier\n",
        "import numpy as np\n",
        "\n",
        "data = np.array([[10, 3], [20, 5], [5, 1], [15, 4], [8, 2]])\n",
        "# Corresponding target labels (0: No Purchase, 1: Purchase)\n",
        "target = np.array([0, 1, 0, 1, 0])\n",
        "\n",
        "# Initialize MLPClassifier with alpha parameter\n",
        "clf = MLPClassifier(alpha=0.01, random_state=42)\n",
        "clf.fit(data, target)\n",
        "\n",
        "# Predict class labels\n",
        "predicted_labels = clf.predict(data)\n",
        "\n"
      ],
      "metadata": {
        "id": "9JtagbpKOuJR"
      },
      "execution_count": 14,
      "outputs": []
    },
    {
      "cell_type": "code",
      "source": [
        "from sklearn.linear_model import Perceptron\n",
        "# Sample data\n",
        "X = [[0, 0], [0, 1], [1, 0], [1, 1]]\n",
        "y = [0, 0, 0, 1]\n",
        "\n",
        "clf = Perceptron(tol=None, shuffle=False)\n",
        "clf.fit(X, y)\n",
        "\n",
        "print(clf.predict([[1, 1]]))\n"
      ],
      "metadata": {
        "colab": {
          "base_uri": "https://localhost:8080/"
        },
        "id": "B_AkWrVgQUEm",
        "outputId": "a49271e0-2c80-4be9-8b9f-bac887a59a95"
      },
      "execution_count": 1,
      "outputs": [
        {
          "output_type": "stream",
          "name": "stdout",
          "text": [
            "[1]\n"
          ]
        }
      ]
    },
    {
      "cell_type": "code",
      "source": [
        "from sklearn.cluster import KMeans\n",
        "import numpy as np\n",
        "\n",
        "# Initialize data\n",
        "X = np.array([[80, 20], [85, 21], [78, 25], [65, 30], [73, 30]])\n",
        "\n",
        "# Create k-means model\n",
        "kmeans = KMeans(n_clusters=3)\n",
        "\n",
        "# Fit model to data\n",
        "kmeans.fit(X)\n",
        "\n",
        "# Predict cluster labels\n",
        "labels = kmeans.labels_\n"
      ],
      "metadata": {
        "colab": {
          "base_uri": "https://localhost:8080/"
        },
        "id": "MPoy4jF9uKSt",
        "outputId": "fa8c5f6f-f1d4-49ed-ec50-dfceccff9062"
      },
      "execution_count": 2,
      "outputs": [
        {
          "output_type": "stream",
          "name": "stderr",
          "text": [
            "/usr/local/lib/python3.10/dist-packages/sklearn/cluster/_kmeans.py:1416: FutureWarning: The default value of `n_init` will change from 10 to 'auto' in 1.4. Set the value of `n_init` explicitly to suppress the warning\n",
            "  super()._check_params_vs_input(X, default_n_init=10)\n"
          ]
        }
      ]
    },
    {
      "cell_type": "code",
      "source": [],
      "metadata": {
        "id": "g2nn0_5c4Rdb"
      },
      "execution_count": null,
      "outputs": []
    }
  ]
}